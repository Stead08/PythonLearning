{
 "cells": [
  {
   "cell_type": "code",
   "execution_count": null,
   "id": "7f2375ef",
   "metadata": {
    "ExecuteTime": {
     "end_time": "2023-01-02T11:39:39.814810Z",
     "start_time": "2023-01-02T11:39:39.809616Z"
    }
   },
   "outputs": [],
   "source": [
    "#qiitaURL: https://qiita.com/Nezura/items/0a37e1746f2830e31ddc\n",
    "import numpy as np"
   ]
  },
  {
   "cell_type": "code",
   "execution_count": 21,
   "id": "8ae98d2a",
   "metadata": {
    "ExecuteTime": {
     "end_time": "2023-01-02T12:12:19.305294Z",
     "start_time": "2023-01-02T12:12:19.294948Z"
    }
   },
   "outputs": [],
   "source": [
    "# 関数部分\n",
    "# affine 変換\n",
    "def affine(z, W, b):\n",
    "    return np.dot(z, W) + b\n",
    "\n",
    "\n",
    "# 活性化関数（中間層）\n",
    "# 入力が負になれば以降に情報を伝えない、正の場合は、そのままの情報を伝える\n",
    "def relu(u):\n",
    "    return np.maximum(0, u)\n",
    "\n",
    "# 活性化関数（出力層）\n",
    "#Mnistのように０−９に分類する問題の場合は、softmax関数がよく用いられる\n",
    "def softmax(u):\n",
    "    max_u = np.max(u, axis=1, keepdims=True)\n",
    "    exp_u = np.exp(u - max_u)\n",
    "    return exp_u / np.sum(exp_u, axis=1, keepdims=True)\n",
    "\n",
    "# 誤差関数\n",
    "# 予測データと正解データの比較\n",
    "#1e-7は０の logを取らないようにするための定数\n",
    "def cross_entropy_error(y, t):\n",
    "    return - np.sum( t * np.log(np.maximum(y, 1e-7))) / y.shape[0]\n",
    "\n",
    "# 重みの調整\n",
    "\n",
    "# 誤差関数、活性化関数（出力層）の勾配\n",
    "def softmax_cross_entropy_error_back(y, t):\n",
    "    return (y - t) / y.shape[0]\n",
    "\n",
    "# 活性化関数（中間層）の勾配\n",
    "def relu_back(dz, u):\n",
    "    return dz * np.where(u > 0 , 1, 0)\n",
    "\n",
    "# Affine変換の勾配\n",
    "def affine_back(du, z, W, b):\n",
    "    dz = np.dot(du, W.T)\n",
    "    dW = np.dot(z.T, du)\n",
    "    db = np.dot(np.ones(z.shape[0]).T, du)\n",
    "    return dz, dW, db\n",
    "\n",
    "\n",
    "\n"
   ]
  },
  {
   "cell_type": "code",
   "execution_count": 9,
   "id": "5f797ea8",
   "metadata": {
    "ExecuteTime": {
     "end_time": "2023-01-02T11:50:16.726395Z",
     "start_time": "2023-01-02T11:50:16.702784Z"
    }
   },
   "outputs": [],
   "source": [
    "#　学習部分\n",
    "def learn(x, t, W1, b1, W2, b2, W3, b3, lr):\n",
    "    # 順伝播\n",
    "    u1 = affine(x, W1, b1)\n",
    "    z1 = relu(u1)\n",
    "    u2 = affine(z1, W2, b2)\n",
    "    z2 = relu(u2)\n",
    "    u3 = affine(z2, W3, b3)\n",
    "    y  = softmax(u3)\n",
    "    # 逆伝播\n",
    "    dy = softmax_cross_entropy_error_back(y, t)\n",
    "    dz2, dW3, db3 = affine_back(dy, z2, W3, b3)\n",
    "    du2 = relu_back(dz2, u2)\n",
    "    dz1, dW2, db2 = affine_back(du2, z1, W2, b2)\n",
    "    du1 = relu_back(dz1, u1)\n",
    "    dx, dW1, db1 = affine_back(du1, x, W1, b1)\n",
    "    # 重み、バイアスの更新\n",
    "    W1 = W1 - lr * dW1\n",
    "    b1 = b1 - lr * db1\n",
    "    W2 = W2 - lr * dW2\n",
    "    b2 = b2 - lr * db2\n",
    "    W3 = W3 - lr * dW3\n",
    "    b3 = b3 - lr * db3\n",
    "\n",
    "    return W1, b1, W2, b2, W3, b3"
   ]
  },
  {
   "cell_type": "code",
   "execution_count": 12,
   "id": "a64f4ad3",
   "metadata": {
    "ExecuteTime": {
     "end_time": "2023-01-02T11:51:06.457378Z",
     "start_time": "2023-01-02T11:51:06.450793Z"
    }
   },
   "outputs": [],
   "source": [
    "# 予測\n",
    "def predict(x, W1, b1, W2, b2, W3, b3):\n",
    "    # 順伝播\n",
    "    u1 = affine(x, W1, b1)\n",
    "    z1 = relu(u1)\n",
    "    u2 = affine(z1, W2, b2)\n",
    "    z2 = relu(u2)\n",
    "    u3 = affine(z2, W3, b3)\n",
    "    y  = softmax(u3)\n",
    "    return y"
   ]
  },
  {
   "cell_type": "code",
   "execution_count": 14,
   "id": "28aed191",
   "metadata": {
    "ExecuteTime": {
     "end_time": "2023-01-02T11:58:33.670324Z",
     "start_time": "2023-01-02T11:58:33.657318Z"
    }
   },
   "outputs": [],
   "source": [
    "# MNISTの学習\n",
    "\n",
    "import gzip\n",
    "import numpy as np\n",
    "#Mnist 読み込み\n",
    "def load_mnist( mnist_path ) :\n",
    "    return _load_image(mnist_path + 'train-images-idx3-ubyte.gz'), \\\n",
    "           _load_label(mnist_path + 'train-labels-idx1-ubyte.gz'), \\\n",
    "           _load_image(mnist_path + 't10k-images-idx3-ubyte.gz'), \\\n",
    "           _load_label(mnist_path + 't10k-labels-idx1-ubyte.gz')\n",
    "def _load_image( image_path ) :\n",
    "    # 画像データの読み込み\n",
    "    with gzip.open(image_path, 'rb') as f:\n",
    "        buffer = f.read()\n",
    "    size = np.frombuffer(buffer, np.dtype('>i4'), 1, offset=4)\n",
    "    rows = np.frombuffer(buffer, np.dtype('>i4'), 1, offset=8)\n",
    "    columns = np.frombuffer(buffer, np.dtype('>i4'), 1, offset=12)\n",
    "    data = np.frombuffer(buffer, np.uint8, offset=16)\n",
    "    image = np.reshape(data, (size[0], rows[0]*columns[0]))\n",
    "    image = image.astype(np.float32)\n",
    "    return image\n",
    "def _load_label( label_path ) :\n",
    "    # 正解データ読み込み\n",
    "    with gzip.open(label_path, 'rb') as f:\n",
    "        buffer = f.read()\n",
    "    size = np.frombuffer(buffer, np.dtype('>i4'), 1, offset=4)\n",
    "    data = np.frombuffer(buffer, np.uint8, offset=8)\n",
    "    label = np.zeros((size[0], 10))\n",
    "    for i in range(size[0]):\n",
    "        label[i, data[i]] = 1\n",
    "    return label\n",
    "\n",
    "# 正解率\n",
    "def accuracy_rate(y, t):\n",
    "    max_y = np.argmax(y, axis=1)\n",
    "    max_t = np.argmax(t, axis=1)\n",
    "    return np.sum(max_y == max_t)/y.shape[0]"
   ]
  },
  {
   "cell_type": "code",
   "execution_count": 22,
   "id": "25bbbd8a",
   "metadata": {
    "ExecuteTime": {
     "end_time": "2023-01-02T12:13:47.726544Z",
     "start_time": "2023-01-02T12:12:23.329159Z"
    }
   },
   "outputs": [
    {
     "name": "stdout",
     "output_type": "stream",
     "text": [
      "  0 train_rate= 11.67% test_rate= 12.18% train_err= 2.30623 test_err= 2.30601\n",
      "  1 train_rate= 92.39% test_rate= 92.38% train_err= 0.24541 test_err= 0.24307\n",
      "  2 train_rate= 96.78% test_rate= 96.34% train_err= 0.10314 test_err= 0.11774\n",
      "  3 train_rate= 97.67% test_rate= 97.02% train_err= 0.07395 test_err= 0.10026\n",
      "  4 train_rate= 98.03% test_rate= 97.06% train_err= 0.06057 test_err= 0.09716\n",
      "  5 train_rate= 98.34% test_rate= 97.18% train_err= 0.05275 test_err= 0.09951\n",
      "  6 train_rate= 98.65% test_rate= 97.30% train_err= 0.04209 test_err= 0.09596\n",
      "  7 train_rate= 98.51% test_rate= 96.95% train_err= 0.04488 test_err= 0.10893\n",
      "  8 train_rate= 98.79% test_rate= 97.39% train_err= 0.03560 test_err= 0.09737\n",
      "  9 train_rate= 99.01% test_rate= 97.47% train_err= 0.03033 test_err= 0.09725\n",
      " 10 train_rate= 99.12% test_rate= 97.57% train_err= 0.02574 test_err= 0.09797\n",
      " 11 train_rate= 99.16% test_rate= 97.47% train_err= 0.02527 test_err= 0.10193\n",
      " 12 train_rate= 99.30% test_rate= 97.55% train_err= 0.01964 test_err= 0.09876\n",
      " 13 train_rate= 99.35% test_rate= 97.50% train_err= 0.01918 test_err= 0.10907\n",
      " 14 train_rate= 99.01% test_rate= 97.22% train_err= 0.03035 test_err= 0.12740\n",
      " 15 train_rate= 98.86% test_rate= 97.33% train_err= 0.03343 test_err= 0.11449\n",
      " 16 train_rate= 99.11% test_rate= 97.50% train_err= 0.02822 test_err= 0.12095\n",
      " 17 train_rate= 99.41% test_rate= 97.49% train_err= 0.01803 test_err= 0.12246\n",
      " 18 train_rate= 99.72% test_rate= 97.80% train_err= 0.00873 test_err= 0.10600\n",
      " 19 train_rate= 99.76% test_rate= 98.01% train_err= 0.00721 test_err= 0.10158\n",
      " 20 train_rate= 99.48% test_rate= 97.68% train_err= 0.01534 test_err= 0.10943\n",
      " 21 train_rate= 99.60% test_rate= 97.80% train_err= 0.01155 test_err= 0.11747\n",
      " 22 train_rate= 99.79% test_rate= 98.08% train_err= 0.00601 test_err= 0.10761\n",
      " 23 train_rate= 99.90% test_rate= 97.99% train_err= 0.00311 test_err= 0.10745\n",
      " 24 train_rate= 99.95% test_rate= 97.97% train_err= 0.00194 test_err= 0.10807\n",
      " 25 train_rate= 99.99% test_rate= 97.99% train_err= 0.00103 test_err= 0.10956\n",
      " 26 train_rate= 99.99% test_rate= 98.03% train_err= 0.00061 test_err= 0.10826\n",
      " 27 train_rate=100.00% test_rate= 98.03% train_err= 0.00037 test_err= 0.10910\n",
      " 28 train_rate=100.00% test_rate= 98.04% train_err= 0.00029 test_err= 0.11031\n",
      " 29 train_rate=100.00% test_rate= 98.05% train_err= 0.00023 test_err= 0.11095\n",
      " 30 train_rate=100.00% test_rate= 98.08% train_err= 0.00019 test_err= 0.11161\n",
      " 31 train_rate=100.00% test_rate= 98.08% train_err= 0.00017 test_err= 0.11196\n",
      " 32 train_rate=100.00% test_rate= 98.08% train_err= 0.00016 test_err= 0.11250\n",
      " 33 train_rate=100.00% test_rate= 98.07% train_err= 0.00014 test_err= 0.11292\n",
      " 34 train_rate=100.00% test_rate= 98.08% train_err= 0.00013 test_err= 0.11324\n",
      " 35 train_rate=100.00% test_rate= 98.08% train_err= 0.00012 test_err= 0.11370\n",
      " 36 train_rate=100.00% test_rate= 98.08% train_err= 0.00012 test_err= 0.11407\n",
      " 37 train_rate=100.00% test_rate= 98.07% train_err= 0.00011 test_err= 0.11436\n",
      " 38 train_rate=100.00% test_rate= 98.08% train_err= 0.00010 test_err= 0.11474\n",
      " 39 train_rate=100.00% test_rate= 98.08% train_err= 0.00010 test_err= 0.11498\n",
      " 40 train_rate=100.00% test_rate= 98.08% train_err= 0.00009 test_err= 0.11532\n",
      " 41 train_rate=100.00% test_rate= 98.08% train_err= 0.00009 test_err= 0.11563\n",
      " 42 train_rate=100.00% test_rate= 98.08% train_err= 0.00009 test_err= 0.11585\n",
      " 43 train_rate=100.00% test_rate= 98.09% train_err= 0.00008 test_err= 0.11613\n",
      " 44 train_rate=100.00% test_rate= 98.10% train_err= 0.00008 test_err= 0.11640\n",
      " 45 train_rate=100.00% test_rate= 98.11% train_err= 0.00008 test_err= 0.11666\n",
      " 46 train_rate=100.00% test_rate= 98.13% train_err= 0.00007 test_err= 0.11681\n",
      " 47 train_rate=100.00% test_rate= 98.13% train_err= 0.00007 test_err= 0.11708\n",
      " 48 train_rate=100.00% test_rate= 98.13% train_err= 0.00007 test_err= 0.11728\n",
      " 49 train_rate=100.00% test_rate= 98.12% train_err= 0.00007 test_err= 0.11752\n",
      " 50 train_rate=100.00% test_rate= 98.11% train_err= 0.00006 test_err= 0.11768\n"
     ]
    }
   ],
   "source": [
    "# MNISTデータ読み込み\n",
    "x_train, t_train, x_test, t_test = load_mnist('/Users/masaharuinomata/MNIST/')\n",
    "\n",
    "# 入力データの正規化(0～1)\n",
    "nx_train = x_train/255\n",
    "nx_test  = x_test/255\n",
    "\n",
    "# ノード数設定\n",
    "d0 = nx_train.shape[1]\n",
    "d1 = 100 # 1層目のノード数\n",
    "d2 = 50  # 2層目のノード数\n",
    "d3 = 10\n",
    "# 重みの初期化(-0.1～0.1の乱数)\n",
    "np.random.seed(8)\n",
    "W1 = np.random.rand(d0, d1) * 0.2 - 0.1\n",
    "W2 = np.random.rand(d1, d2) * 0.2 - 0.1\n",
    "W3 = np.random.rand(d2, d3) * 0.2 - 0.1\n",
    "# バイアスの初期化(0)\n",
    "b1 = np.zeros(d1)\n",
    "b2 = np.zeros(d2)\n",
    "b3 = np.zeros(d3)\n",
    "\n",
    "# 学習率\n",
    "lr = 0.5\n",
    "# バッチサイズ\n",
    "batch_size = 100\n",
    "# 学習回数\n",
    "epoch = 50\n",
    "\n",
    "# 予測（学習データ）\n",
    "y_train = predict(nx_train, W1, b1, W2, b2, W3, b3)\n",
    "# 予測（テストデータ）\n",
    "y_test = predict(nx_test, W1, b1, W2, b2, W3, b3)\n",
    "# 正解率、誤差表示\n",
    "train_rate, train_err = accuracy_rate(y_train, t_train), cross_entropy_error(y_train, t_train)\n",
    "test_rate, test_err = accuracy_rate(y_test, t_test), cross_entropy_error(y_test, t_test)\n",
    "print(\"{0:3d} train_rate={1:6.2f}% test_rate={2:6.2f}% train_err={3:8.5f} test_err={4:8.5f}\".format((0), train_rate*100, test_rate*100, train_err, test_err))\n",
    "\n",
    "for i in range(epoch):\n",
    "    # 学習\n",
    "    for j in range(0, nx_train.shape[0], batch_size):\n",
    "        W1, b1, W2, b2, W3, b3 = learn(nx_train[j:j+batch_size], t_train[j:j+batch_size], W1, b1, W2, b2, W3, b3, lr)\n",
    "\n",
    "    # 予測（学習データ）\n",
    "    y_train = predict(nx_train, W1, b1, W2, b2, W3, b3)\n",
    "    # 予測（テストデータ）\n",
    "    y_test = predict(nx_test, W1, b1, W2, b2, W3, b3)\n",
    "    # 正解率、誤差表示\n",
    "    train_rate, train_err = accuracy_rate(y_train, t_train), cross_entropy_error(y_train, t_train)\n",
    "    test_rate, test_err = accuracy_rate(y_test, t_test), cross_entropy_error(y_test, t_test)\n",
    "    print(\"{0:3d} train_rate={1:6.2f}% test_rate={2:6.2f}% train_err={3:8.5f} test_err={4:8.5f}\".format((i+1), train_rate*100, test_rate*100, train_err, test_err))"
   ]
  },
  {
   "cell_type": "code",
   "execution_count": null,
   "id": "dabd3210",
   "metadata": {},
   "outputs": [],
   "source": []
  }
 ],
 "metadata": {
  "kernelspec": {
   "display_name": "Python 3 (ipykernel)",
   "language": "python",
   "name": "python3"
  },
  "language_info": {
   "codemirror_mode": {
    "name": "ipython",
    "version": 3
   },
   "file_extension": ".py",
   "mimetype": "text/x-python",
   "name": "python",
   "nbconvert_exporter": "python",
   "pygments_lexer": "ipython3",
   "version": "3.9.15"
  },
  "toc": {
   "base_numbering": 1,
   "nav_menu": {},
   "number_sections": true,
   "sideBar": true,
   "skip_h1_title": false,
   "title_cell": "Table of Contents",
   "title_sidebar": "Contents",
   "toc_cell": false,
   "toc_position": {},
   "toc_section_display": true,
   "toc_window_display": false
  },
  "varInspector": {
   "cols": {
    "lenName": 16,
    "lenType": 16,
    "lenVar": 40
   },
   "kernels_config": {
    "python": {
     "delete_cmd_postfix": "",
     "delete_cmd_prefix": "del ",
     "library": "var_list.py",
     "varRefreshCmd": "print(var_dic_list())"
    },
    "r": {
     "delete_cmd_postfix": ") ",
     "delete_cmd_prefix": "rm(",
     "library": "var_list.r",
     "varRefreshCmd": "cat(var_dic_list()) "
    }
   },
   "types_to_exclude": [
    "module",
    "function",
    "builtin_function_or_method",
    "instance",
    "_Feature"
   ],
   "window_display": false
  }
 },
 "nbformat": 4,
 "nbformat_minor": 5
}
